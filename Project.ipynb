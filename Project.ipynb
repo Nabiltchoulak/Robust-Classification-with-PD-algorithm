{
  "nbformat": 4,
  "nbformat_minor": 0,
  "metadata": {
    "colab": {
      "name": "Project.ipynb",
      "provenance": [],
      "collapsed_sections": []
    },
    "kernelspec": {
      "name": "python3",
      "display_name": "Python 3"
    }
  },
  "cells": [
    {
      "cell_type": "code",
      "metadata": {
        "id": "sTjH964cioQv"
      },
      "source": [
        "import numpy as np\r\n",
        "import pywt\r\n",
        "import matplotlib.pyplot as plt\r\n",
        "import os\r\n",
        "import scipy.io as sio\r\n",
        "import scipy\r\n",
        "from scipy.spatial import distance\r\n",
        "from sklearn.metrics import confusion_matrix\r\n",
        "from sklearn.decomposition import PCA\r\n",
        "from sklearn.cluster import KMeans"
      ],
      "execution_count": null,
      "outputs": []
    },
    {
      "cell_type": "code",
      "metadata": {
        "id": "7_2koF1bi6RG",
        "colab": {
          "base_uri": "https://localhost:8080/"
        },
        "outputId": "e2f07e1d-577c-4e2e-98af-5eb7e75743b0"
      },
      "source": [
        "from google.colab import drive\n",
        "drive.mount('/content/gdrive')\n",
        "import sys\n",
        "\n",
        "# Modifier la variable du TD en fonction de l'endroit où les données sont stockées\n",
        "TD_DIR = 'gdrive/My Drive/TD1/'\n",
        "sys.path.append(TD_DIR)\n",
        "#print(sys.path)\n",
        "mat_contents = sio.loadmat(TD_DIR+\"DrivFace.mat\")"
      ],
      "execution_count": null,
      "outputs": [
        {
          "output_type": "stream",
          "text": [
            "Drive already mounted at /content/gdrive; to attempt to forcibly remount, call drive.mount(\"/content/gdrive\", force_remount=True).\n"
          ],
          "name": "stdout"
        }
      ]
    },
    {
      "cell_type": "code",
      "metadata": {
        "id": "uURWHzYG9AsJ"
      },
      "source": [
        "# Load data\r\n",
        "trainX=mat_contents['drivFaceD'][0,0][0]\r\n",
        "y_init = mat_contents['drivFaceD'][0,0][2]\r\n",
        "# Transform output encoding to one hot\r\n",
        "trainY = np.zeros((y_init.size, y_init.max()))\r\n",
        "trainY[np.arange(y_init.size),np.transpose(y_init-1)]=1\r\n"
      ],
      "execution_count": null,
      "outputs": []
    },
    {
      "cell_type": "code",
      "metadata": {
        "id": "ZSeaacXLEYU5"
      },
      "source": [
        "class PD_algorithm(object):\r\n",
        "  def __init__(self,trainX,trainY,sigma,tho,alpha,l):\r\n",
        "    self.trainX = trainX\r\n",
        "    self.trainY = trainY\r\n",
        "    self.k=trainY.shape[1]\r\n",
        "    self.m = trainX.shape[0]\r\n",
        "    self.d=trainX.shape[1]\r\n",
        "    self.sigma = sigma\r\n",
        "    self.tho = tho\r\n",
        "    self.alpha = alpha\r\n",
        "    self.l=int(l)\r\n",
        "    \r\n",
        "    self.U = np.ones((self.k,self.l))\r\n",
        "   \r\n",
        "    ############### Initialise W and M randomly\r\n",
        "    self.W = np.random.randn(self.d,self.l)\r\n",
        "    #self.W = np.random.rand(self.d,self.l,density=0.5)\r\n",
        "    self.M = np.random.randn(self.k,self.l)\r\n",
        "    \r\n",
        "  def initiate_weights(self):\r\n",
        "    pca = PCA(self.l)\r\n",
        "    pca.fit(self.trainX.T)\r\n",
        "    self.W = pca.transform(trainX.T)\r\n",
        "    kmeans = KMeans(n_clusters=3).fit(np.dot(trainX,self.W))\r\n",
        "    self.M = kmeans.cluster_centers_\r\n",
        "    print(self.W.shape)\r\n",
        "    print(self.M.shape)\r\n",
        "\r\n",
        "\r\n",
        "  def soft_v(self,W,v):\r\n",
        "    return np.multiply(np.sign(W),np.maximum(np.abs(W)-(v),0))\r\n",
        "  def prox_g(self,W):\r\n",
        "    return self.soft_v(W,(self.tho*self.alpha))\r\n",
        "\r\n",
        "  def proj_C(self,M):\r\n",
        "    seuil  = round(M.sum(),9)\r\n",
        "    if seuil >= 1:\r\n",
        "      return M\r\n",
        "    else :\r\n",
        "      return M + (1/(self.k*self.l))*(1-seuil)*self.U\r\n",
        "      print(\"out\")\r\n",
        "      \r\n",
        "  def prox_f(self,Z):\r\n",
        "    return Z - self.sigma*self.soft_v((1/self.sigma)*Z,1/self.sigma)\r\n",
        "\r\n",
        "  def train(self):\r\n",
        "    cost = []\r\n",
        "    v_n = np.ones((self.m,self.l))\r\n",
        "    for n in range(1000):\r\n",
        "        M_n = self.M\r\n",
        "        W_n = self.W\r\n",
        "        self.W = self.prox_g(W_n + self.tho*np.dot(np.transpose(self.trainX),v_n))\r\n",
        "        self.M = self.proj_C(M_n - self.tho*np.dot(np.transpose(self.trainY),v_n))\r\n",
        "        v_n = self.prox_f(v_n + self.sigma*(np.dot(self.trainY,(2*self.M - M_n)) - np.dot(self.trainX,2*self.W - W_n)))\r\n",
        "        diff = np.sum(np.abs(np.dot(self.trainY,self.M) - np.dot(self.trainX,self.W)))\r\n",
        "        loss = diff + alpha*np.sum(np.abs(self.W))\r\n",
        "        cost.append(loss)\r\n",
        "        if (n%50 == 0):\r\n",
        "          print(\"Iteration \", n, \"lost :\",diff)\r\n",
        "    return cost\r\n",
        "  def predict(self,testX):\r\n",
        "    Y_p = np.transpose(distance.cdist(np.dot(testX,self.W),self.M).argmin(axis=1) ) \r\n",
        "    return Y_p\r\n",
        "  \r\n"
      ],
      "execution_count": null,
      "outputs": []
    },
    {
      "cell_type": "code",
      "metadata": {
        "colab": {
          "base_uri": "https://localhost:8080/",
          "height": 685
        },
        "id": "dtK7AHci0Yx1",
        "outputId": "68239324-02cb-4ce7-d5b9-409a8104d0eb"
      },
      "source": [
        "# Parameters of the training algorithm\r\n",
        "alpha = 5 \r\n",
        "tho = 0.0001\r\n",
        "sigma = 0.004\r\n",
        "l = 500\r\n",
        "model = PD_algorithm(trainX,\r\n",
        "                     trainY,\r\n",
        "                     alpha=alpha,\r\n",
        "                     tho=tho,\r\n",
        "                     sigma=sigma,\r\n",
        "                     l=l)\r\n",
        "model.initiate_weights\r\n",
        "cost = model.train()\r\n",
        "plt.yscale(\"log\")\r\n",
        "plt.plot(cost)\r\n"
      ],
      "execution_count": null,
      "outputs": [
        {
          "output_type": "stream",
          "text": [
            "Iteration  0 lost : 35800706.72351112\n",
            "Iteration  50 lost : 1848408.9985093866\n",
            "Iteration  100 lost : 1444192.7516093291\n",
            "Iteration  150 lost : 1165367.4950511665\n",
            "Iteration  200 lost : 990696.7132900897\n",
            "Iteration  250 lost : 930387.2205955088\n",
            "Iteration  300 lost : 811760.9181047447\n",
            "Iteration  350 lost : 742670.6488079063\n",
            "Iteration  400 lost : 685130.343126365\n",
            "Iteration  450 lost : 629712.4876343675\n",
            "Iteration  500 lost : 584300.9669581105\n",
            "Iteration  550 lost : 547301.5414816686\n",
            "Iteration  600 lost : 510505.60738632386\n",
            "Iteration  650 lost : 479084.675904616\n",
            "Iteration  700 lost : 452097.9679186945\n",
            "Iteration  750 lost : 425885.60903314664\n",
            "Iteration  800 lost : 404384.45995359705\n",
            "Iteration  850 lost : 383281.59984426067\n",
            "Iteration  900 lost : 363439.40779083426\n",
            "Iteration  950 lost : 344860.0043407071\n",
            "[[ 27   0   0]\n",
            " [  0 546   0]\n",
            " [  0   2  31]]\n"
          ],
          "name": "stdout"
        },
        {
          "output_type": "display_data",
          "data": {
            "image/png": "[encoded data removed]",
            "text/plain": [
              "<Figure size 432x288 with 1 Axes>"
            ]
          },
          "metadata": {
            "tags": [],
            "needs_background": "light"
          }
        }
      ]
    },
    {
      "cell_type": "code",
      "metadata": {
        "id": "c34Dmvp1W_V3"
      },
      "source": [
        "# Prediction on test data\r\n",
        "\r\n",
        "Y_p=model.predict(trainX)\r\n",
        "# We add +1 to synchronise classes from [0-2] to [1-3]\r\n",
        "C = confusion_matrix(y_init, \r\n",
        "                     Y_p+1)\r\n",
        "print(C)"
      ],
      "execution_count": null,
      "outputs": []
    }
  ]
}